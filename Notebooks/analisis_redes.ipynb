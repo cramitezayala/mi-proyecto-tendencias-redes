{
 "cells": [
  {
   "cell_type": "code",
   "execution_count": 5,
   "metadata": {},
   "outputs": [
    {
     "data": {
      "text/html": [
       "<div>\n",
       "<style scoped>\n",
       "    .dataframe tbody tr th:only-of-type {\n",
       "        vertical-align: middle;\n",
       "    }\n",
       "\n",
       "    .dataframe tbody tr th {\n",
       "        vertical-align: top;\n",
       "    }\n",
       "\n",
       "    .dataframe thead th {\n",
       "        text-align: right;\n",
       "    }\n",
       "</style>\n",
       "<table border=\"1\" class=\"dataframe\">\n",
       "  <thead>\n",
       "    <tr style=\"text-align: right;\">\n",
       "      <th></th>\n",
       "      <th>id</th>\n",
       "      <th>usuario</th>\n",
       "      <th>fecha</th>\n",
       "      <th>contenido</th>\n",
       "      <th>likes</th>\n",
       "      <th>comentarios</th>\n",
       "      <th>compartidos</th>\n",
       "      <th>plataforma</th>\n",
       "      <th>retweets</th>\n",
       "      <th>respuestas</th>\n",
       "    </tr>\n",
       "  </thead>\n",
       "  <tbody>\n",
       "    <tr>\n",
       "      <th>0</th>\n",
       "      <td>1</td>\n",
       "      <td>usuario1</td>\n",
       "      <td>2025-09-19</td>\n",
       "      <td>Una experiencia maravillosa, muy satisfecho. #...</td>\n",
       "      <td>79</td>\n",
       "      <td>87</td>\n",
       "      <td>26</td>\n",
       "      <td>Facebook</td>\n",
       "      <td>None</td>\n",
       "      <td>None</td>\n",
       "    </tr>\n",
       "    <tr>\n",
       "      <th>1</th>\n",
       "      <td>2</td>\n",
       "      <td>usuario2</td>\n",
       "      <td>2025-09-05</td>\n",
       "      <td>El peor servicio que he recibido. #colera</td>\n",
       "      <td>341</td>\n",
       "      <td>98</td>\n",
       "      <td>7</td>\n",
       "      <td>Facebook</td>\n",
       "      <td>None</td>\n",
       "      <td>None</td>\n",
       "    </tr>\n",
       "    <tr>\n",
       "      <th>2</th>\n",
       "      <td>3</td>\n",
       "      <td>usuario3</td>\n",
       "      <td>2025-03-13</td>\n",
       "      <td>Este servicio es excelente, estoy muy satisfec...</td>\n",
       "      <td>144</td>\n",
       "      <td>25</td>\n",
       "      <td>41</td>\n",
       "      <td>Facebook</td>\n",
       "      <td>None</td>\n",
       "      <td>None</td>\n",
       "    </tr>\n",
       "    <tr>\n",
       "      <th>3</th>\n",
       "      <td>4</td>\n",
       "      <td>usuario4</td>\n",
       "      <td>2025-07-28</td>\n",
       "      <td>No puedo creer lo mal que funciona esto. #colera</td>\n",
       "      <td>366</td>\n",
       "      <td>41</td>\n",
       "      <td>37</td>\n",
       "      <td>Facebook</td>\n",
       "      <td>None</td>\n",
       "      <td>None</td>\n",
       "    </tr>\n",
       "    <tr>\n",
       "      <th>4</th>\n",
       "      <td>5</td>\n",
       "      <td>usuario5</td>\n",
       "      <td>2025-05-14</td>\n",
       "      <td>Esto es increible, estoy extasiado! #extasis</td>\n",
       "      <td>451</td>\n",
       "      <td>4</td>\n",
       "      <td>31</td>\n",
       "      <td>Facebook</td>\n",
       "      <td>None</td>\n",
       "      <td>None</td>\n",
       "    </tr>\n",
       "  </tbody>\n",
       "</table>\n",
       "</div>"
      ],
      "text/plain": [
       "   id   usuario      fecha                                          contenido  \\\n",
       "0   1  usuario1 2025-09-19  Una experiencia maravillosa, muy satisfecho. #...   \n",
       "1   2  usuario2 2025-09-05          El peor servicio que he recibido. #colera   \n",
       "2   3  usuario3 2025-03-13  Este servicio es excelente, estoy muy satisfec...   \n",
       "3   4  usuario4 2025-07-28   No puedo creer lo mal que funciona esto. #colera   \n",
       "4   5  usuario5 2025-05-14       Esto es increible, estoy extasiado! #extasis   \n",
       "\n",
       "   likes comentarios compartidos plataforma retweets respuestas  \n",
       "0     79          87          26   Facebook     None       None  \n",
       "1    341          98           7   Facebook     None       None  \n",
       "2    144          25          41   Facebook     None       None  \n",
       "3    366          41          37   Facebook     None       None  \n",
       "4    451           4          31   Facebook     None       None  "
      ]
     },
     "execution_count": 5,
     "metadata": {},
     "output_type": "execute_result"
    }
   ],
   "source": [
    "import pandas as pd\n",
    "import os\n",
    "\n",
    "ruta_data = \"../Data\"\n",
    "\n",
    "# Facebook\n",
    "facebook_df = pd.read_json(os.path.join(ruta_data, \"Facebook_data.json\"))\n",
    "\n",
    "# Instagram\n",
    "instagram_df = pd.read_json(os.path.join(ruta_data, \"Instagram_data.json\"))\n",
    "\n",
    "#  Twitter\n",
    "twitter_df = pd.read_json(os.path.join(ruta_data, \"Twitter_data.json\"))\n",
    "\n",
    "\n",
    "\n",
    "facebook_df['plataforma'] = 'Facebook'\n",
    "instagram_df['plataforma'] = 'Instagram'\n",
    "twitter_df['plataforma'] = 'Twitter'\n",
    "\n",
    "facebook_df['retweets'] = None\n",
    "facebook_df['respuestas'] = None\n",
    "\n",
    "instagram_df['compartidos'] = None\n",
    "instagram_df['retweets'] = None\n",
    "instagram_df['respuestas'] = None\n",
    "\n",
    "twitter_df['comentarios'] = None\n",
    "twitter_df['compartidos'] = None\n",
    "\n",
    "df_redes = pd.concat([facebook_df, instagram_df, twitter_df], ignore_index=True)\n",
    "df_redes['fecha'] = pd.to_datetime(df_redes['fecha'])\n",
    "df_redes.head(5)\n",
    "\n"
   ]
  },
  {
   "cell_type": "code",
   "execution_count": 6,
   "metadata": {},
   "outputs": [
    {
     "name": "stdout",
     "output_type": "stream",
     "text": [
      "Cantidad de textos faltantes: 0\n"
     ]
    }
   ],
   "source": [
    "# Verificamos si hay textos faltantes\n",
    "faltantes = df_redes['contenido'].isnull().sum()\n",
    "print(f\"Cantidad de textos faltantes: {faltantes}\")"
   ]
  },
  {
   "cell_type": "markdown",
   "metadata": {},
   "source": [
    "## 2. Preprocesamiento de textos\n",
    "\n",
    "En esta sección se realiza el preprocesamiento necesario para preparar el texto para el análisis. Las tareas incluyen:\n",
    "- Normalización del texto (minúsculas y eliminación de símbolos innecesarios)\n",
    "- Tokenización\n",
    "- Lematización\n",
    "- Eliminación de stop words\n",
    "- Manejo de datos faltantes\n"
   ]
  },
  {
   "cell_type": "code",
   "execution_count": 10,
   "metadata": {},
   "outputs": [
    {
     "data": {
      "text/html": [
       "<div>\n",
       "<style scoped>\n",
       "    .dataframe tbody tr th:only-of-type {\n",
       "        vertical-align: middle;\n",
       "    }\n",
       "\n",
       "    .dataframe tbody tr th {\n",
       "        vertical-align: top;\n",
       "    }\n",
       "\n",
       "    .dataframe thead th {\n",
       "        text-align: right;\n",
       "    }\n",
       "</style>\n",
       "<table border=\"1\" class=\"dataframe\">\n",
       "  <thead>\n",
       "    <tr style=\"text-align: right;\">\n",
       "      <th></th>\n",
       "      <th>contenido</th>\n",
       "      <th>tokens</th>\n",
       "    </tr>\n",
       "  </thead>\n",
       "  <tbody>\n",
       "    <tr>\n",
       "      <th>0</th>\n",
       "      <td>Una experiencia maravillosa, muy satisfecho. #...</td>\n",
       "      <td>[experiencia, maravillosa, satisfecho, #, sati...</td>\n",
       "    </tr>\n",
       "    <tr>\n",
       "      <th>1</th>\n",
       "      <td>El peor servicio que he recibido. #colera</td>\n",
       "      <td>[peor, servicio, recibido, #, colera]</td>\n",
       "    </tr>\n",
       "    <tr>\n",
       "      <th>2</th>\n",
       "      <td>Este servicio es excelente, estoy muy satisfec...</td>\n",
       "      <td>[servicio, excelente, satisfecho, #, satisfacc...</td>\n",
       "    </tr>\n",
       "    <tr>\n",
       "      <th>3</th>\n",
       "      <td>No puedo creer lo mal que funciona esto. #colera</td>\n",
       "      <td>[puedo, creer, mal, funciona, #, colera]</td>\n",
       "    </tr>\n",
       "    <tr>\n",
       "      <th>4</th>\n",
       "      <td>Esto es increible, estoy extasiado! #extasis</td>\n",
       "      <td>[increible, extasiado, #, extasis]</td>\n",
       "    </tr>\n",
       "  </tbody>\n",
       "</table>\n",
       "</div>"
      ],
      "text/plain": [
       "                                           contenido  \\\n",
       "0  Una experiencia maravillosa, muy satisfecho. #...   \n",
       "1          El peor servicio que he recibido. #colera   \n",
       "2  Este servicio es excelente, estoy muy satisfec...   \n",
       "3   No puedo creer lo mal que funciona esto. #colera   \n",
       "4       Esto es increible, estoy extasiado! #extasis   \n",
       "\n",
       "                                              tokens  \n",
       "0  [experiencia, maravillosa, satisfecho, #, sati...  \n",
       "1              [peor, servicio, recibido, #, colera]  \n",
       "2  [servicio, excelente, satisfecho, #, satisfacc...  \n",
       "3           [puedo, creer, mal, funciona, #, colera]  \n",
       "4                 [increible, extasiado, #, extasis]  "
      ]
     },
     "execution_count": 10,
     "metadata": {},
     "output_type": "execute_result"
    }
   ],
   "source": [
    "import sys\n",
    "sys.path.append('../Scripts')\n",
    "\n",
    "from procesamiento_texto import limpiar_y_tokenizar\n",
    "\n",
    "df_redes['tokens'] = df_redes['contenido'].apply(limpiar_y_tokenizar)\n",
    "df_redes[['contenido', 'tokens']].head()\n"
   ]
  },
  {
   "cell_type": "code",
   "execution_count": null,
   "metadata": {},
   "outputs": [],
   "source": [
    "df_redes['longitud'] = df_redes['tokens'].apply(len)\n",
    "df_redes"
   ]
  },
  {
   "cell_type": "code",
   "execution_count": 14,
   "metadata": {},
   "outputs": [
    {
     "name": "stdout",
     "output_type": "stream",
     "text": [
      "Promedio de palabras por publicación: 5.228148148148148\n",
      "Publicación más corta (tokens): 4\n",
      "Publicación más larga (tokens): 7\n"
     ]
    }
   ],
   "source": [
    "df_redes['longitud'] = df_redes['tokens'].apply(len)\n",
    "\n",
    "print(\"Promedio de palabras por publicación:\", df_redes['longitud'].mean())\n",
    "print(\"Publicación más corta (tokens):\", df_redes['longitud'].min())\n",
    "print(\"Publicación más larga (tokens):\", df_redes['longitud'].max())\n",
    "\n"
   ]
  },
  {
   "cell_type": "code",
   "execution_count": null,
   "metadata": {},
   "outputs": [
    {
     "data": {
      "image/png": "[encoded data removed]",
      "text/plain": [
       "<Figure size 600x400 with 1 Axes>"
      ]
     },
     "metadata": {},
     "output_type": "display_data"
    },
    {
     "data": {
      "text/plain": [
       "<Figure size 640x480 with 0 Axes>"
      ]
     },
     "metadata": {},
     "output_type": "display_data"
    }
   ],
   "source": [
    "import matplotlib.pyplot as plt\n",
    "\n",
    "# Histograma de la longitud de publicaciones\n",
    "plt.figure(figsize=(6, 4))\n",
    "plt.hist(df_redes['longitud'], bins=range(df_redes['longitud'].min(), df_redes['longitud'].max() + 2),\n",
    "         color='skyblue', edgecolor='black')\n",
    "plt.title(\"Distribución de longitud de publicaciones\")\n",
    "plt.xlabel(\"Cantidad de palabras (tokens)\")\n",
    "plt.ylabel(\"Número de publicaciones\")\n",
    "plt.xticks(range(df_redes['longitud'].min(), df_redes['longitud'].max() + 1))\n",
    "plt.grid(axis='y', linestyle='--', alpha=0.7)\n",
    "plt.tight_layout()\n",
    "plt.show()\n",
    "plt.savefig('../Outputs/histograma_longitud.jpg')\n"
   ]
  }
 ],
 "metadata": {
  "kernelspec": {
   "display_name": "venv",
   "language": "python",
   "name": "python3"
  },
  "language_info": {
   "codemirror_mode": {
    "name": "ipython",
    "version": 3
   },
   "file_extension": ".py",
   "mimetype": "text/x-python",
   "name": "python",
   "nbconvert_exporter": "python",
   "pygments_lexer": "ipython3",
   "version": "3.10.7"
  }
 },
 "nbformat": 4,
 "nbformat_minor": 2
}
